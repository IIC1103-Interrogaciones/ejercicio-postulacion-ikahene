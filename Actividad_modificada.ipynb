{
 "cells": [
  {
   "cell_type": "markdown",
   "metadata": {},
   "source": [
    "# Ejercicio de Postulación - Área de Interrogaciones"
   ]
  },
  {
   "cell_type": "markdown",
   "metadata": {},
   "source": [
    "Nombre: Gabriela Rivera Gálvez \n",
    "\n",
    "Email: gabriela.rivera@uc.cl\n",
    "\n",
    "Telegram: @ikahene"
   ]
  },
  {
   "cell_type": "markdown",
   "metadata": {},
   "source": [
    "## Código solución (NO MODIFICAR)"
   ]
  },
  {
   "cell_type": "code",
   "execution_count": 1,
   "metadata": {},
   "outputs": [],
   "source": [
    "#code.py\n",
    "def obtener_proximos(partidos, equipo):\n",
    "    equipos = []\n",
    "    ex_rivales = []\n",
    "    for partido in partidos:\n",
    "        if partido[0] not in equipos:\n",
    "            equipos.append(partido[0])\n",
    "        if partido[1] not in equipos:\n",
    "            equipos.append(partido[1])\n",
    "        if equipo == partido[0]:\n",
    "            ex_rivales.append(partido[1])\n",
    "        if equipo == partido[1]:\n",
    "            ex_rivales.append(partido[0])\n",
    "    pendientes = []\n",
    "    for rival in equipos:\n",
    "        if rival not in ex_rivales:\n",
    "            pendientes.append(rival)\n",
    "    return pendientes\n"
   ]
  },
  {
   "cell_type": "markdown",
   "metadata": {},
   "source": [
    "## Runner Personalizado (Opcional Modificar) "
   ]
  },
  {
   "cell_type": "markdown",
   "metadata": {},
   "source": [
    "Se tendra en consideración si logran hacer que los outputs sean iguales (solo modificando el runner) independiente del orden en que retornen los elementos en la lista."
   ]
  },
  {
   "cell_type": "code",
   "execution_count": null,
   "metadata": {},
   "outputs": [],
   "source": [
    "from functools import partial\n",
    "\n",
    "def obtener_proximos_modificada(func_original, partidos, equipo):\n",
    "    resultado = func_original(partidos, equipo)\n",
    "    # Cambiar Comportamiento de la función original (opcional)\n",
    "    return resultado\n",
    "\n",
    "# Con esto reescribimos la función original para capturar el resultado del alumno y modificarlo si es necesario\n",
    "obtener_proximos = partial(obtener_proximos_modificada, obtener_proximos)\n"
   ]
  },
  {
   "cell_type": "markdown",
   "metadata": {},
   "source": [
    "## Enunciado"
   ]
  },
  {
   "cell_type": "markdown",
   "metadata": {},
   "source": [
    "### Objetivo\n",
    "¡Bienvenido a DDcampeonato de fútbol!. En esta actividad deberás **organizar las próximas fechas del campeonato de fútbol, asegurando que cada equipo se enfrente al menos una vez entre sí**.\n",
    "\n",
    "### Desarrollo de la actividad\n",
    "Para lograr esta tarea, deberás crear la función **obtener_próximos**, la cual recibe 2 parámetros. El primer parámetro es **partidos**, una lista de listas, donde cada elemento de la lista representa un partido ya jugado. A su vez, cada partido está compuesto por los nombres de los 2 equipos que se enfrentaron. Siguiendo el siguiente formato de ejemplo:\n",
    "\n",
    "partidos = [\n",
    "    [\"nombre1\", \"nombre2\"], \n",
    "    [\"nombre3\", \"nombre1\"]\n",
    "]\n",
    "\n",
    "El segundo parámetro que deberás recibir es **equipo**, un str que representa el nombre del equipo para el cual deberás encontrar sus rivales pendientes.\n",
    "\n",
    "Con estos parametros deberás crear la lógica de la función que finalmente deberá devolver una lista que contenga los nombres de los próximos rivales.\n",
    "\n",
    "### Consideraciones \n",
    "+ El total de equipos rivales en DCCampeonato que debes considerar son los que ya han jugado algún partido.\n",
    "+ Los rivales se deben entregar en el orden en que aparecen en la lista partidos.\n",
    "+ Puedes asumir que no existirá más de un equipo con el mismo nombre.\n",
    "+ Un equipo no se puede enfrentar a sí mismo.\n",
    "\n",
    "### Ejemplo \n",
    "En tu DCCampeonato se han inscrito 4 equipos, cuyos nombres son platano, manzana, pera y uva. Adicionalmente se te pide encontrar los próximos rivales del equipo plátano y para ello se te entrega la siguiente lista:\n",
    "\n",
    "partidos = [\n",
    "    [\"platano\", \"manzana\"], \n",
    "    [\"pera\", \"uva\"],\n",
    "    [\"uva\", \"platano\"],\n",
    "    [\"manzana\", \"pera\"],\n",
    "]\n",
    "\n",
    "Observando la lista vemos que este equipo ya se ha enfrentado a manzana y uva, por ende, ha jugado con 2 de los 3 rivales inscritos y el único pendiente es pera, con ello, se espera que tu función retorne [\"pera\"] como resultado"
   ]
  },
  {
   "cell_type": "markdown",
   "metadata": {},
   "source": [
    "## Testcases"
   ]
  },
  {
   "cell_type": "markdown",
   "metadata": {},
   "source": [
    "### Testcase 1"
   ]
  },
  {
   "cell_type": "markdown",
   "metadata": {},
   "source": [
    "#### Input"
   ]
  },
  {
   "cell_type": "code",
   "execution_count": null,
   "metadata": {},
   "outputs": [],
   "source": [
    "partidos = [[\"eren\", \"mikasa\"], [\"frieren\", \"fern\"], [\"eren\", \"fern\"], [\"eren\", \"frieren\"]]\n",
    "equipo = \"eren\""
   ]
  },
  {
   "cell_type": "markdown",
   "metadata": {},
   "source": [
    "#### Output"
   ]
  },
  {
   "cell_type": "code",
   "execution_count": null,
   "metadata": {},
   "outputs": [],
   "source": [
    "[]"
   ]
  },
  {
   "cell_type": "markdown",
   "metadata": {},
   "source": [
    "#### Explicación\n",
    "En este caso, en la lista de partidos vemos que eren ya se ha enfrentado a mikasa, frieren y fern, por ende, ya ha jugado con cada equipo 1 vez y no le quedan partidos pendientes. En este caso se debe retornar una lista vacía, ya que eren no se puede enfrentar a sí mismo."
   ]
  },
  {
   "cell_type": "markdown",
   "metadata": {},
   "source": [
    "### Testcase 2"
   ]
  },
  {
   "cell_type": "markdown",
   "metadata": {},
   "source": [
    "#### Input"
   ]
  },
  {
   "cell_type": "code",
   "execution_count": null,
   "metadata": {},
   "outputs": [],
   "source": [
    "partidos = [[\"sopaipilla\", \"cazuela\"], [\"sopaipilla\", \"anticucho\"], [\"pebre\", \"cazuela\"]]\n",
    "equipo = \"terremoto\""
   ]
  },
  {
   "cell_type": "markdown",
   "metadata": {},
   "source": [
    "#### Output"
   ]
  },
  {
   "cell_type": "code",
   "execution_count": null,
   "metadata": {},
   "outputs": [],
   "source": [
    "[\"sopaipilla\", \"cazuela\", \"antichucho\", \"pebre\"]"
   ]
  },
  {
   "cell_type": "markdown",
   "metadata": {},
   "source": [
    "#### Explicación \n",
    "\n",
    "En este caso, el equipo terremoto no está contenido en ninguno de los partidos jugados, por ello debe enfrentar a cada uno de ellos en las próximas fechas. Esto implica que la lista retornada debe contener todos los nombres de los equipos rivales."
   ]
  },
  {
   "cell_type": "markdown",
   "metadata": {},
   "source": [
    "### Testcase 3"
   ]
  },
  {
   "cell_type": "markdown",
   "metadata": {},
   "source": [
    "#### Input"
   ]
  },
  {
   "cell_type": "code",
   "execution_count": null,
   "metadata": {},
   "outputs": [],
   "source": [
    "partidos = [[\"rana\", \"sapo\"], [\"rana\", \"renacuajo\"], [\"rana\", \"sapo\"], [\"cocodrilo\", \"renacuajo\"]]\n",
    "equipo = \"cocodrilo\""
   ]
  },
  {
   "cell_type": "markdown",
   "metadata": {},
   "source": [
    "#### Output"
   ]
  },
  {
   "cell_type": "code",
   "execution_count": null,
   "metadata": {},
   "outputs": [],
   "source": [
    "[\"rana\", \"sapo\"]"
   ]
  },
  {
   "cell_type": "markdown",
   "metadata": {},
   "source": [
    "#### Explicación \n",
    "\n",
    "Se nos pide buscar la lista de rivales para el equipo cocodrilo, este sólo se ha enfrentado a renacuajo, por ende rana y sapo son los equipos pendientes, entonces el output esperado es [\"rana\", \"sapo\"]. Si bien este ejercicio puede parecer simple vale considerar que existen partidos en donde 2 rivales se han enfrentado más de una vez, por ende la lista de partidos no representa necesariamente combinaciones diferentes."
   ]
  }
 ],
 "metadata": {
  "kernelspec": {
   "display_name": "Python 3",
   "language": "python",
   "name": "python3"
  },
  "language_info": {
   "codemirror_mode": {
    "name": "ipython",
    "version": 3
   },
   "file_extension": ".py",
   "mimetype": "text/x-python",
   "name": "python",
   "nbconvert_exporter": "python",
   "pygments_lexer": "ipython3",
   "version": "3.11.9"
  }
 },
 "nbformat": 4,
 "nbformat_minor": 4
}
